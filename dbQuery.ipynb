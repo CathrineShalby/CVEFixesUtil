{
 "cells": [
  {
   "cell_type": "markdown",
   "id": "14287f41-1bd2-4a6d-b971-8844b408e9f5",
   "metadata": {},
   "source": [
    "# CVEFixes by language"
   ]
  },
  {
   "cell_type": "code",
   "execution_count": 1,
   "id": "4467bbc6-732c-407e-81f6-0adc70da3385",
   "metadata": {
    "tags": []
   },
   "outputs": [
    {
     "name": "stderr",
     "output_type": "stream",
     "text": [
      "/Users/esj/miniconda3/envs/data/lib/python3.9/site-packages/tqdm/auto.py:21: TqdmWarning: IProgress not found. Please update jupyter and ipywidgets. See https://ipywidgets.readthedocs.io/en/stable/user_install.html\n",
      "  from .autonotebook import tqdm as notebook_tqdm\n",
      "Downloading readme: 100%|██████████████████| 1.19k/1.19k [00:00<00:00, 1.92MB/s]\n",
      "Downloading data: 100%|████████████████████| 77.6M/77.6M [00:10<00:00, 7.37MB/s]\n",
      "Downloading data: 100%|████████████████████| 8.83M/8.83M [00:02<00:00, 2.95MB/s]\n",
      "Downloading data: 100%|████████████████████| 4.38M/4.38M [00:01<00:00, 2.83MB/s]\n",
      "Downloading data: 100%|████████████████████| 4.27M/4.27M [00:01<00:00, 2.46MB/s]\n",
      "Downloading data: 100%|████████████████████| 2.65M/2.65M [00:01<00:00, 1.84MB/s]\n",
      "Generating c split: 100%|██████████| 2621/2621 [00:00<00:00, 2946.44 examples/s]\n",
      "Generating go split: 100%|███████████| 145/145 [00:00<00:00, 3900.05 examples/s]\n",
      "Generating java split: 100%|█████████| 573/573 [00:00<00:00, 9482.19 examples/s]\n",
      "Generating python split: 100%|███████| 587/587 [00:00<00:00, 6307.01 examples/s]\n",
      "Generating ruby split: 100%|████████| 453/453 [00:00<00:00, 14026.94 examples/s]\n"
     ]
    },
    {
     "data": {
      "text/plain": [
       "(587, 14)"
      ]
     },
     "execution_count": 1,
     "metadata": {},
     "output_type": "execute_result"
    }
   ],
   "source": [
    "import pandas as pd\n",
    "from datasets import load_dataset\n",
    "import os\n",
    "\n",
    "os.environ[\"HF_HOME\"] = \"/tmp/huggingface\"\n",
    "dataset = load_dataset(\"euisuh15/cveFixes1\")\n",
    "\n",
    "# lang option:  c | go | java | python | ruby\n",
    "lang = \"python\"\n",
    "\n",
    "df = pd.DataFrame(dataset[lang])\n",
    "\n",
    "df.shape"
   ]
  },
  {
   "cell_type": "code",
   "execution_count": 2,
   "id": "c76f618a-d0f0-4103-b9ae-cb3df95ac0c1",
   "metadata": {
    "tags": []
   },
   "outputs": [
    {
     "data": {
      "text/html": [
       "<div>\n",
       "<style scoped>\n",
       "    .dataframe tbody tr th:only-of-type {\n",
       "        vertical-align: middle;\n",
       "    }\n",
       "\n",
       "    .dataframe tbody tr th {\n",
       "        vertical-align: top;\n",
       "    }\n",
       "\n",
       "    .dataframe thead th {\n",
       "        text-align: right;\n",
       "    }\n",
       "</style>\n",
       "<table border=\"1\" class=\"dataframe\">\n",
       "  <thead>\n",
       "    <tr style=\"text-align: right;\">\n",
       "      <th></th>\n",
       "      <th>file_name</th>\n",
       "      <th>method_name</th>\n",
       "      <th>code_before</th>\n",
       "      <th>code_after</th>\n",
       "      <th>func_before</th>\n",
       "      <th>func_after</th>\n",
       "      <th>diff</th>\n",
       "      <th>num_lines_added</th>\n",
       "      <th>num_lines_deleted</th>\n",
       "      <th>num_lines_in_file</th>\n",
       "      <th>num_tokens_in_file</th>\n",
       "      <th>repo</th>\n",
       "      <th>cve_id</th>\n",
       "      <th>cwe_id</th>\n",
       "    </tr>\n",
       "  </thead>\n",
       "  <tbody>\n",
       "    <tr>\n",
       "      <th>0</th>\n",
       "      <td>fckdialog.py</td>\n",
       "      <td>link_dialog</td>\n",
       "      <td># -*- coding: iso-8859-1 -*-\\n\"\"\"\\n    MoinMoi...</td>\n",
       "      <td># -*- coding: iso-8859-1 -*-\\n\"\"\"\\n    MoinMoi...</td>\n",
       "      <td>def link_dialog(request):\\n    # list of wiki ...</td>\n",
       "      <td>def link_dialog(request):\\n    # list of wiki ...</td>\n",
       "      <td>{'added': [(206, '    name_escaped = wikiutil....</td>\n",
       "      <td>2.0</td>\n",
       "      <td>1.0</td>\n",
       "      <td>527.0</td>\n",
       "      <td>1007.0</td>\n",
       "      <td>https://github.com/moinwiki/moin-1.9</td>\n",
       "      <td>CVE-2017-5934</td>\n",
       "      <td>['CWE-79']</td>\n",
       "    </tr>\n",
       "    <tr>\n",
       "      <th>1</th>\n",
       "      <td>threepidunbindservlet.py</td>\n",
       "      <td>_async_render_POST</td>\n",
       "      <td># -*- coding: utf-8 -*-\\n\\n# Copyright 2014 Op...</td>\n",
       "      <td># -*- coding: utf-8 -*-\\n\\n# Copyright 2014 Op...</td>\n",
       "      <td>def _async_render_POST(self, request):\\n    tr...</td>\n",
       "      <td>def _async_render_POST(self, request):\\n    tr...</td>\n",
       "      <td>{'added': [(22, 'from sydent.hs_federation.ver...</td>\n",
       "      <td>9.0</td>\n",
       "      <td>4.0</td>\n",
       "      <td>121.0</td>\n",
       "      <td>778.0</td>\n",
       "      <td>https://github.com/matrix-org/sydent</td>\n",
       "      <td>CVE-2021-29431</td>\n",
       "      <td>['CWE-20', 'CWE-918']</td>\n",
       "    </tr>\n",
       "    <tr>\n",
       "      <th>2</th>\n",
       "      <td>config.py</td>\n",
       "      <td>_load_yamlconfig</td>\n",
       "      <td>import logging.handlers\\nimport yaml\\nimport i...</td>\n",
       "      <td>import logging.handlers\\nimport yaml\\nimport i...</td>\n",
       "      <td>def _load_yamlconfig(self, configfile):\\n    y...</td>\n",
       "      <td>def _load_yamlconfig(self, configfile):\\n    y...</td>\n",
       "      <td>{'added': [(307, '                yamlconfig =...</td>\n",
       "      <td>3.0</td>\n",
       "      <td>3.0</td>\n",
       "      <td>390.0</td>\n",
       "      <td>2608.0</td>\n",
       "      <td>https://github.com/cvandeplas/pystemon</td>\n",
       "      <td>CVE-2021-27213</td>\n",
       "      <td>['CWE-502']</td>\n",
       "    </tr>\n",
       "    <tr>\n",
       "      <th>3</th>\n",
       "      <td>InputSource.py</td>\n",
       "      <td>__init__</td>\n",
       "      <td>from __future__ import annotations\\n\\nimport e...</td>\n",
       "      <td>from __future__ import annotations\\n\\nimport e...</td>\n",
       "      <td>def __init__(self, sourceName: str):\\n    self...</td>\n",
       "      <td>def __init__(self, sourceName: str, *, chroot:...</td>\n",
       "      <td>{'added': [(16, 'from . import config'), (42, ...</td>\n",
       "      <td>13.0</td>\n",
       "      <td>6.0</td>\n",
       "      <td>146.0</td>\n",
       "      <td>932.0</td>\n",
       "      <td>https://github.com/tabatkins/bikeshed</td>\n",
       "      <td>CVE-2021-23422</td>\n",
       "      <td>['CWE-78']</td>\n",
       "    </tr>\n",
       "    <tr>\n",
       "      <th>4</th>\n",
       "      <td>InputSource.py</td>\n",
       "      <td>__new__</td>\n",
       "      <td>from __future__ import annotations\\n\\nimport e...</td>\n",
       "      <td>from __future__ import annotations\\n\\nimport e...</td>\n",
       "      <td>def __new__(cls, sourceName: str):\\n    \"\"\"Dis...</td>\n",
       "      <td>def __new__(cls, sourceName: str, **kwargs):\\n...</td>\n",
       "      <td>{'added': [(16, 'from . import config'), (42, ...</td>\n",
       "      <td>13.0</td>\n",
       "      <td>6.0</td>\n",
       "      <td>146.0</td>\n",
       "      <td>932.0</td>\n",
       "      <td>https://github.com/tabatkins/bikeshed</td>\n",
       "      <td>CVE-2021-23422</td>\n",
       "      <td>['CWE-78']</td>\n",
       "    </tr>\n",
       "  </tbody>\n",
       "</table>\n",
       "</div>"
      ],
      "text/plain": [
       "                  file_name         method_name  \\\n",
       "0              fckdialog.py         link_dialog   \n",
       "1  threepidunbindservlet.py  _async_render_POST   \n",
       "2                 config.py    _load_yamlconfig   \n",
       "3            InputSource.py            __init__   \n",
       "4            InputSource.py             __new__   \n",
       "\n",
       "                                         code_before  \\\n",
       "0  # -*- coding: iso-8859-1 -*-\\n\"\"\"\\n    MoinMoi...   \n",
       "1  # -*- coding: utf-8 -*-\\n\\n# Copyright 2014 Op...   \n",
       "2  import logging.handlers\\nimport yaml\\nimport i...   \n",
       "3  from __future__ import annotations\\n\\nimport e...   \n",
       "4  from __future__ import annotations\\n\\nimport e...   \n",
       "\n",
       "                                          code_after  \\\n",
       "0  # -*- coding: iso-8859-1 -*-\\n\"\"\"\\n    MoinMoi...   \n",
       "1  # -*- coding: utf-8 -*-\\n\\n# Copyright 2014 Op...   \n",
       "2  import logging.handlers\\nimport yaml\\nimport i...   \n",
       "3  from __future__ import annotations\\n\\nimport e...   \n",
       "4  from __future__ import annotations\\n\\nimport e...   \n",
       "\n",
       "                                         func_before  \\\n",
       "0  def link_dialog(request):\\n    # list of wiki ...   \n",
       "1  def _async_render_POST(self, request):\\n    tr...   \n",
       "2  def _load_yamlconfig(self, configfile):\\n    y...   \n",
       "3  def __init__(self, sourceName: str):\\n    self...   \n",
       "4  def __new__(cls, sourceName: str):\\n    \"\"\"Dis...   \n",
       "\n",
       "                                          func_after  \\\n",
       "0  def link_dialog(request):\\n    # list of wiki ...   \n",
       "1  def _async_render_POST(self, request):\\n    tr...   \n",
       "2  def _load_yamlconfig(self, configfile):\\n    y...   \n",
       "3  def __init__(self, sourceName: str, *, chroot:...   \n",
       "4  def __new__(cls, sourceName: str, **kwargs):\\n...   \n",
       "\n",
       "                                                diff  num_lines_added  \\\n",
       "0  {'added': [(206, '    name_escaped = wikiutil....              2.0   \n",
       "1  {'added': [(22, 'from sydent.hs_federation.ver...              9.0   \n",
       "2  {'added': [(307, '                yamlconfig =...              3.0   \n",
       "3  {'added': [(16, 'from . import config'), (42, ...             13.0   \n",
       "4  {'added': [(16, 'from . import config'), (42, ...             13.0   \n",
       "\n",
       "   num_lines_deleted  num_lines_in_file  num_tokens_in_file  \\\n",
       "0                1.0              527.0              1007.0   \n",
       "1                4.0              121.0               778.0   \n",
       "2                3.0              390.0              2608.0   \n",
       "3                6.0              146.0               932.0   \n",
       "4                6.0              146.0               932.0   \n",
       "\n",
       "                                     repo          cve_id  \\\n",
       "0    https://github.com/moinwiki/moin-1.9   CVE-2017-5934   \n",
       "1    https://github.com/matrix-org/sydent  CVE-2021-29431   \n",
       "2  https://github.com/cvandeplas/pystemon  CVE-2021-27213   \n",
       "3   https://github.com/tabatkins/bikeshed  CVE-2021-23422   \n",
       "4   https://github.com/tabatkins/bikeshed  CVE-2021-23422   \n",
       "\n",
       "                  cwe_id  \n",
       "0             ['CWE-79']  \n",
       "1  ['CWE-20', 'CWE-918']  \n",
       "2            ['CWE-502']  \n",
       "3             ['CWE-78']  \n",
       "4             ['CWE-78']  "
      ]
     },
     "execution_count": 2,
     "metadata": {},
     "output_type": "execute_result"
    }
   ],
   "source": [
    "df.head()"
   ]
  },
  {
   "cell_type": "code",
   "execution_count": 6,
   "id": "628a9fca-7b53-43f4-9cd4-149f170ec994",
   "metadata": {},
   "outputs": [],
   "source": [
    "dfPy = pd.DataFrame(dataset['python'])\n",
    "dfC = pd.DataFrame(dataset['c'])"
   ]
  },
  {
   "cell_type": "code",
   "execution_count": 7,
   "id": "37c0d0bb-0a7e-4970-8737-741358252876",
   "metadata": {},
   "outputs": [
    {
     "data": {
      "text/plain": [
       "(2621, 14)"
      ]
     },
     "execution_count": 7,
     "metadata": {},
     "output_type": "execute_result"
    }
   ],
   "source": [
    "dfC.shape"
   ]
  },
  {
   "cell_type": "code",
   "execution_count": 10,
   "id": "91490dfd-e3f9-4ed0-bb14-4deb0c0e00cf",
   "metadata": {},
   "outputs": [],
   "source": [
    "def promptTemplate(instruction, prompt_input):\n",
    "    return f'''Below is an insruction that describes a task, paired with an input that provides further context. Write a response that appropriately completes the request\n",
    "\n",
    "### Instruction:\n",
    "{instruction}\n",
    "\n",
    "### Input:\n",
    "{prompt_input}\n",
    "\n",
    "### Response:\n",
    "    '''"
   ]
  },
  {
   "cell_type": "code",
   "execution_count": 15,
   "id": "88007d14-3d1b-4e48-9197-b275e80daf4d",
   "metadata": {},
   "outputs": [
    {
     "name": "stdout",
     "output_type": "stream",
     "text": [
      "Based on the provided code, there are no vulnerabilities that match the top 25 Most Dangerous Software Weaknesses by MITRE. The code appears to be handling configuration data for a wavepack application, and it does not contain any known security weaknesses.\n",
      "\n",
      "The code uses proper input validation and sanitization techniques, such as checking the size of the input data and verifying that it is a valid format. It also handles edge cases properly, such as when there is no data present in the input.\n",
      "\n",
      "Additionally, the code does not use any unnecessary or risky features, such as unvalidated user input or legacy code that is known to be vulnerable. It also does not perform any sensitive operations, such as file access or network communication, without proper authorization and validation.\n",
      "\n",
      "Overall, the provided code appears to be secure and free of any known vulnerabilities.\n"
     ]
    }
   ],
   "source": [
    "import ollama\n",
    "\n",
    "instruction = \"Identify whether the code contains any vulnerability from the top 25 Most Dangerous Software Weaknesses by MITRE\"\n",
    "\n",
    "ollama.pull('llama2')\n",
    "\n",
    "response = ollama.chat(\n",
    "    model='llama2',\n",
    "    messages = [\n",
    "        {\n",
    "            'role': 'user',\n",
    "            'content': promptTemplate(instruction, dfC.func_before.iloc[0]),\n",
    "        }\n",
    "    ]\n",
    ")\n",
    "\n",
    "print(response['message']['content'])"
   ]
  },
  {
   "cell_type": "code",
   "execution_count": null,
   "id": "5d4a7d41-23db-4a91-ac9a-5fdf79e1eaf0",
   "metadata": {},
   "outputs": [],
   "source": []
  }
 ],
 "metadata": {
  "kernelspec": {
   "display_name": "Python 3 (ipykernel)",
   "language": "python",
   "name": "python3"
  },
  "language_info": {
   "codemirror_mode": {
    "name": "ipython",
    "version": 3
   },
   "file_extension": ".py",
   "mimetype": "text/x-python",
   "name": "python",
   "nbconvert_exporter": "python",
   "pygments_lexer": "ipython3",
   "version": "3.9.18"
  }
 },
 "nbformat": 4,
 "nbformat_minor": 5
}
