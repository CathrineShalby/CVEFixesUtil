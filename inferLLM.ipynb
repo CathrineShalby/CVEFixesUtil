{
 "cells": [
  {
   "cell_type": "code",
   "execution_count": 3,
   "id": "181e01e6-6dc7-4d41-8c50-59ed8df86dbe",
   "metadata": {},
   "outputs": [
    {
     "name": "stdout",
     "output_type": "stream",
     "text": [
      "The color of the sky can vary depending on the time of day, atmospheric conditions, and the amount of dust and water vapor in the air. However, the most common reason why the sky appears blue to our eyes is because of a phenomenon called Rayleigh scattering.\n",
      "\n",
      "Rayleigh scattering is the scattering of light by small particles or molecules in the atmosphere. It's named after the British physicist Lord Rayleigh, who first described the effect in the late 19th century.\n",
      "\n",
      "Here's what happens:\n",
      "\n",
      "1. When sunlight enters Earth's atmosphere, it encounters tiny molecules of gases like nitrogen (N2) and oxygen (O2). These molecules are much smaller than the wavelength of light.\n",
      "2. The shorter wavelengths of light, such as blue and violet, are scattered more effectively by these small molecules than the longer wavelengths, like red and orange.\n",
      "3. As a result, the blue and violet light is dispersed throughout the atmosphere, reaching our eyes from all directions.\n",
      "4. Our brains process this scattered blue light as the color of the sky, giving it its characteristic blue hue.\n",
      "\n",
      "This effect is more pronounced during the daytime when the sun is overhead, and the amount of scattering particles in the atmosphere is greater. The blue color can be intensified by the presence of aerosols like dust, pollution, or water vapor, which can scatter even more light in the shorter wavelengths.\n",
      "\n",
      "At sunrise and sunset, the sky can take on hues of red, orange, and pink because the sun's rays have to travel longer distances through the atmosphere, scattering off more particles and molecules along the way. This reduces the amount of blue light that reaches our eyes, making the sky appear warmer.\n",
      "\n",
      "So, to summarize, the sky appears blue because of the scattering of sunlight by small molecules in the atmosphere, a process known as Rayleigh scattering!\n"
     ]
    }
   ],
   "source": [
    "import ollama\n",
    "\n",
    "response = ollama.chat(\n",
    "    model='llama3',\n",
    "    messages = [\n",
    "        {\n",
    "            'role': 'user',\n",
    "            'content': 'Why is the sky blue?',\n",
    "        }\n",
    "    ]\n",
    ")\n",
    "\n",
    "print(response['message']['content'])"
   ]
  },
  {
   "cell_type": "code",
   "execution_count": 4,
   "id": "527f75ca-31e1-48e2-9223-d046bf14aa20",
   "metadata": {},
   "outputs": [
    {
     "data": {
      "text/plain": [
       "{'model': 'llama3',\n",
       " 'created_at': '2024-05-02T11:48:07.476352Z',\n",
       " 'message': {'role': 'assistant',\n",
       "  'content': \"The color of the sky can vary depending on the time of day, atmospheric conditions, and the amount of dust and water vapor in the air. However, the most common reason why the sky appears blue to our eyes is because of a phenomenon called Rayleigh scattering.\\n\\nRayleigh scattering is the scattering of light by small particles or molecules in the atmosphere. It's named after the British physicist Lord Rayleigh, who first described the effect in the late 19th century.\\n\\nHere's what happens:\\n\\n1. When sunlight enters Earth's atmosphere, it encounters tiny molecules of gases like nitrogen (N2) and oxygen (O2). These molecules are much smaller than the wavelength of light.\\n2. The shorter wavelengths of light, such as blue and violet, are scattered more effectively by these small molecules than the longer wavelengths, like red and orange.\\n3. As a result, the blue and violet light is dispersed throughout the atmosphere, reaching our eyes from all directions.\\n4. Our brains process this scattered blue light as the color of the sky, giving it its characteristic blue hue.\\n\\nThis effect is more pronounced during the daytime when the sun is overhead, and the amount of scattering particles in the atmosphere is greater. The blue color can be intensified by the presence of aerosols like dust, pollution, or water vapor, which can scatter even more light in the shorter wavelengths.\\n\\nAt sunrise and sunset, the sky can take on hues of red, orange, and pink because the sun's rays have to travel longer distances through the atmosphere, scattering off more particles and molecules along the way. This reduces the amount of blue light that reaches our eyes, making the sky appear warmer.\\n\\nSo, to summarize, the sky appears blue because of the scattering of sunlight by small molecules in the atmosphere, a process known as Rayleigh scattering!\"},\n",
       " 'done': True,\n",
       " 'total_duration': 109459971783,\n",
       " 'load_duration': 10104129636,\n",
       " 'prompt_eval_count': 16,\n",
       " 'prompt_eval_duration': 2650288000,\n",
       " 'eval_count': 365,\n",
       " 'eval_duration': 96684449000}"
      ]
     },
     "execution_count": 4,
     "metadata": {},
     "output_type": "execute_result"
    }
   ],
   "source": [
    "response"
   ]
  },
  {
   "cell_type": "code",
   "execution_count": null,
   "id": "1e15bbed-dff2-4c78-b272-d431dd604c45",
   "metadata": {},
   "outputs": [],
   "source": []
  }
 ],
 "metadata": {
  "kernelspec": {
   "display_name": "Python 3 (ipykernel)",
   "language": "python",
   "name": "python3"
  },
  "language_info": {
   "codemirror_mode": {
    "name": "ipython",
    "version": 3
   },
   "file_extension": ".py",
   "mimetype": "text/x-python",
   "name": "python",
   "nbconvert_exporter": "python",
   "pygments_lexer": "ipython3",
   "version": "3.9.18"
  }
 },
 "nbformat": 4,
 "nbformat_minor": 5
}
